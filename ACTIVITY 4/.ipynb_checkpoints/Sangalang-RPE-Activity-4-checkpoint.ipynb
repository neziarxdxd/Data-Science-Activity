{
 "cells": [
  {
   "cell_type": "code",
   "execution_count": 19,
   "id": "f60ad11f",
   "metadata": {},
   "outputs": [],
   "source": [
    "from collections import Counter    \n",
    "import math"
   ]
  },
  {
   "cell_type": "code",
   "execution_count": 20,
   "id": "16ad9ae5",
   "metadata": {},
   "outputs": [],
   "source": [
    "def knn(data, query, k, distance_fn, choice_fn):    \n",
    "    neighbor_distances_and_indices = []    \n",
    "        \n",
    "    # 3. For each example in the data    \n",
    "    for index, example in enumerate(data):    \n",
    "        # 3.1 Calculate the distance between the query example and the current    \n",
    "        # example from the data.    \n",
    "        distance = distance_fn(example[:-1], query)    \n",
    "            \n",
    "        # 3.2 Add the distance and the index of the example to an ordered collection    \n",
    "        neighbor_distances_and_indices.append((distance, index))    \n",
    "        \n",
    "    # 4. Sort the ordered collection of distances and indices from    \n",
    "    # smallest to largest (in ascending order) by the distances    \n",
    "    sorted_neighbor_distances_and_indices = sorted(neighbor_distances_and_indices)    \n",
    "        \n",
    "    # 5. Pick the first K entries from the sorted collection    \n",
    "    k_nearest_distances_and_indices = sorted_neighbor_distances_and_indices[:k]    \n",
    "        \n",
    "    # 6. Get the labels of the selected K entries    \n",
    "    k_nearest_labels = [data[i][1] for distance, i in k_nearest_distances_and_indices]    \n",
    "    \n",
    "    # 7. If regression (choice_fn = mean), return the average of the K labels    \n",
    "    # 8. If classification (choice_fn = mode), return the mode of the K labels    \n",
    "    return k_nearest_distances_and_indices , choice_fn(k_nearest_labels)"
   ]
  },
  {
   "cell_type": "code",
   "execution_count": 21,
   "id": "aec2f61d",
   "metadata": {},
   "outputs": [],
   "source": [
    "#function to calculate the mean used in case of regression  \n",
    "def mean(labels):    \n",
    "    return sum(labels) / len(labels)    \n",
    "   \n",
    "#function to calculate the mode used in case of classification   \n",
    "def mode(labels):    \n",
    "    return Counter(labels).most_common(1)[0][0]    \n",
    "    \n",
    "#function to calculate the distance between two data points  \n",
    "def euclidean_distance(point1, point2):    \n",
    "    sum_squared_distance = 0    \n",
    "    for i in range(len(point1)):    \n",
    "        sum_squared_distance += math.pow(point1[i] - point2[i], 2)    \n",
    "    return math.sqrt(sum_squared_distance)"
   ]
  },
  {
   "cell_type": "code",
   "execution_count": 22,
   "id": "3edaf315",
   "metadata": {},
   "outputs": [],
   "source": [
    " sleep_data = [    \n",
    "    [21, 6],    \n",
    "    [22, 5],    \n",
    "    [34, 6],    \n",
    "    [29, 5],    \n",
    "    [27, 8],    \n",
    "    [25, 4],    \n",
    "    [28, 7],    \n",
    "    [36, 5],    \n",
    "    [24, 6],    \n",
    "    [35, 6],    \n",
    "]"
   ]
  },
  {
   "cell_type": "code",
   "execution_count": 23,
   "id": "83b7889d",
   "metadata": {},
   "outputs": [
    {
     "name": "stdout",
     "output_type": "stream",
     "text": [
      "[(1.0, 1), (1.0, 8), (2.0, 0)] 5.666666666666667\n"
     ]
    }
   ],
   "source": [
    "sleep_query = [23]    \n",
    "sleep_k_nearest_neighbors, sleep_prediction = knn(    \n",
    "              sleep_data, sleep_query, k=3, distance_fn=euclidean_distance,choice_fn=mean) \n",
    "print(sleep_k_nearest_neighbors, sleep_prediction) "
   ]
  },
  {
   "cell_type": "code",
   "execution_count": null,
   "id": "4c5bc7ec",
   "metadata": {},
   "outputs": [],
   "source": []
  }
 ],
 "metadata": {
  "kernelspec": {
   "display_name": "Python 3",
   "language": "python",
   "name": "python3"
  },
  "language_info": {
   "codemirror_mode": {
    "name": "ipython",
    "version": 3
   },
   "file_extension": ".py",
   "mimetype": "text/x-python",
   "name": "python",
   "nbconvert_exporter": "python",
   "pygments_lexer": "ipython3",
   "version": "3.9.0"
  }
 },
 "nbformat": 4,
 "nbformat_minor": 5
}
