{
 "cells": [
  {
   "cell_type": "markdown",
   "metadata": {
    "id": "cSh3pTWIWnDP"
   },
   "source": [
    "# Activity 3\n",
    "\n",
    "Given the attributes Student name(simple names), Thesis Result(Pass/Failed), and Hours to finish thesis project\n",
    "\n",
    "\n",
    "List down at least 20 samples given the attributes.\n",
    "Describe each variable  (thesis result and hours,  without looking at the relationship between the attributes) \n"
   ]
  },
  {
   "cell_type": "code",
   "execution_count": 2,
   "metadata": {
    "id": "vcbKFlnvW9vx"
   },
   "outputs": [],
   "source": [
    "import pandas as pd\n",
    "import numpy as np\n",
    "#importing libraries essential for data visualization\n",
    "import matplotlib.pyplot as plt\n",
    "import matplotlib.mlab as mlab\n",
    "%matplotlib inline\n",
    "# import seaborn as sns\n",
    "df=pd.read_csv(\"thesis-dataset.csv\")"
   ]
  },
  {
   "cell_type": "markdown",
   "metadata": {},
   "source": [
    "## List of Name with their Thesis result and hours to finish thesis project\n",
    "\n",
    "The level of measurement of this is **RATIO**"
   ]
  },
  {
   "cell_type": "code",
   "execution_count": 3,
   "metadata": {
    "scrolled": true
   },
   "outputs": [
    {
     "data": {
      "text/html": [
       "<div>\n",
       "<style scoped>\n",
       "    .dataframe tbody tr th:only-of-type {\n",
       "        vertical-align: middle;\n",
       "    }\n",
       "\n",
       "    .dataframe tbody tr th {\n",
       "        vertical-align: top;\n",
       "    }\n",
       "\n",
       "    .dataframe thead th {\n",
       "        text-align: right;\n",
       "    }\n",
       "</style>\n",
       "<table border=\"1\" class=\"dataframe\">\n",
       "  <thead>\n",
       "    <tr style=\"text-align: right;\">\n",
       "      <th></th>\n",
       "      <th>Name</th>\n",
       "      <th>thesis result</th>\n",
       "      <th>Hours</th>\n",
       "    </tr>\n",
       "  </thead>\n",
       "  <tbody>\n",
       "    <tr>\n",
       "      <th>0</th>\n",
       "      <td>Amanda</td>\n",
       "      <td>pass</td>\n",
       "      <td>5</td>\n",
       "    </tr>\n",
       "    <tr>\n",
       "      <th>1</th>\n",
       "      <td>Andrew</td>\n",
       "      <td>failed</td>\n",
       "      <td>6</td>\n",
       "    </tr>\n",
       "    <tr>\n",
       "      <th>2</th>\n",
       "      <td>Ashley</td>\n",
       "      <td>pass</td>\n",
       "      <td>10</td>\n",
       "    </tr>\n",
       "    <tr>\n",
       "      <th>3</th>\n",
       "      <td>Betty</td>\n",
       "      <td>pass</td>\n",
       "      <td>12</td>\n",
       "    </tr>\n",
       "    <tr>\n",
       "      <th>4</th>\n",
       "      <td>Brandon</td>\n",
       "      <td>pass</td>\n",
       "      <td>10</td>\n",
       "    </tr>\n",
       "    <tr>\n",
       "      <th>5</th>\n",
       "      <td>Brian</td>\n",
       "      <td>pass</td>\n",
       "      <td>8</td>\n",
       "    </tr>\n",
       "    <tr>\n",
       "      <th>6</th>\n",
       "      <td>Carol</td>\n",
       "      <td>failed</td>\n",
       "      <td>10</td>\n",
       "    </tr>\n",
       "    <tr>\n",
       "      <th>7</th>\n",
       "      <td>Charles</td>\n",
       "      <td>failed</td>\n",
       "      <td>12</td>\n",
       "    </tr>\n",
       "    <tr>\n",
       "      <th>8</th>\n",
       "      <td>Christopher</td>\n",
       "      <td>pass</td>\n",
       "      <td>20</td>\n",
       "    </tr>\n",
       "    <tr>\n",
       "      <th>9</th>\n",
       "      <td>Daniel</td>\n",
       "      <td>pass</td>\n",
       "      <td>16</td>\n",
       "    </tr>\n",
       "    <tr>\n",
       "      <th>10</th>\n",
       "      <td>David</td>\n",
       "      <td>pass</td>\n",
       "      <td>1</td>\n",
       "    </tr>\n",
       "    <tr>\n",
       "      <th>11</th>\n",
       "      <td>Deborah</td>\n",
       "      <td>pass</td>\n",
       "      <td>22</td>\n",
       "    </tr>\n",
       "    <tr>\n",
       "      <th>12</th>\n",
       "      <td>Donna</td>\n",
       "      <td>failed</td>\n",
       "      <td>10</td>\n",
       "    </tr>\n",
       "    <tr>\n",
       "      <th>13</th>\n",
       "      <td>Dorothy</td>\n",
       "      <td>failed</td>\n",
       "      <td>12</td>\n",
       "    </tr>\n",
       "    <tr>\n",
       "      <th>14</th>\n",
       "      <td>Edward</td>\n",
       "      <td>failed</td>\n",
       "      <td>11</td>\n",
       "    </tr>\n",
       "    <tr>\n",
       "      <th>15</th>\n",
       "      <td>Emily</td>\n",
       "      <td>pass</td>\n",
       "      <td>2</td>\n",
       "    </tr>\n",
       "    <tr>\n",
       "      <th>16</th>\n",
       "      <td>George</td>\n",
       "      <td>pass</td>\n",
       "      <td>9</td>\n",
       "    </tr>\n",
       "    <tr>\n",
       "      <th>17</th>\n",
       "      <td>James</td>\n",
       "      <td>pass</td>\n",
       "      <td>10</td>\n",
       "    </tr>\n",
       "    <tr>\n",
       "      <th>18</th>\n",
       "      <td>Jason</td>\n",
       "      <td>pass</td>\n",
       "      <td>10</td>\n",
       "    </tr>\n",
       "    <tr>\n",
       "      <th>19</th>\n",
       "      <td>John</td>\n",
       "      <td>failed</td>\n",
       "      <td>15</td>\n",
       "    </tr>\n",
       "    <tr>\n",
       "      <th>20</th>\n",
       "      <td>Joseph</td>\n",
       "      <td>pass</td>\n",
       "      <td>21</td>\n",
       "    </tr>\n",
       "    <tr>\n",
       "      <th>21</th>\n",
       "      <td>Joshua</td>\n",
       "      <td>pass</td>\n",
       "      <td>12</td>\n",
       "    </tr>\n",
       "    <tr>\n",
       "      <th>22</th>\n",
       "      <td>Kenneth</td>\n",
       "      <td>pass</td>\n",
       "      <td>8</td>\n",
       "    </tr>\n",
       "    <tr>\n",
       "      <th>23</th>\n",
       "      <td>Kevin</td>\n",
       "      <td>failed</td>\n",
       "      <td>5</td>\n",
       "    </tr>\n",
       "    <tr>\n",
       "      <th>24</th>\n",
       "      <td>Kimberly</td>\n",
       "      <td>failed</td>\n",
       "      <td>2</td>\n",
       "    </tr>\n",
       "    <tr>\n",
       "      <th>25</th>\n",
       "      <td>Lisa</td>\n",
       "      <td>pass</td>\n",
       "      <td>12</td>\n",
       "    </tr>\n",
       "    <tr>\n",
       "      <th>26</th>\n",
       "      <td>Margaret</td>\n",
       "      <td>failed</td>\n",
       "      <td>13</td>\n",
       "    </tr>\n",
       "    <tr>\n",
       "      <th>27</th>\n",
       "      <td>Marissa</td>\n",
       "      <td>failed</td>\n",
       "      <td>18</td>\n",
       "    </tr>\n",
       "    <tr>\n",
       "      <th>28</th>\n",
       "      <td>Matthew</td>\n",
       "      <td>failed</td>\n",
       "      <td>14</td>\n",
       "    </tr>\n",
       "    <tr>\n",
       "      <th>29</th>\n",
       "      <td>Melissa</td>\n",
       "      <td>pass</td>\n",
       "      <td>12</td>\n",
       "    </tr>\n",
       "    <tr>\n",
       "      <th>30</th>\n",
       "      <td>Michael</td>\n",
       "      <td>failed</td>\n",
       "      <td>17</td>\n",
       "    </tr>\n",
       "    <tr>\n",
       "      <th>31</th>\n",
       "      <td>Paul</td>\n",
       "      <td>failed</td>\n",
       "      <td>22</td>\n",
       "    </tr>\n",
       "    <tr>\n",
       "      <th>32</th>\n",
       "      <td>Richard</td>\n",
       "      <td>pass</td>\n",
       "      <td>13</td>\n",
       "    </tr>\n",
       "    <tr>\n",
       "      <th>33</th>\n",
       "      <td>Robert</td>\n",
       "      <td>pass</td>\n",
       "      <td>14</td>\n",
       "    </tr>\n",
       "    <tr>\n",
       "      <th>34</th>\n",
       "      <td>Ronald</td>\n",
       "      <td>pass</td>\n",
       "      <td>17</td>\n",
       "    </tr>\n",
       "    <tr>\n",
       "      <th>35</th>\n",
       "      <td>Sandra</td>\n",
       "      <td>pass</td>\n",
       "      <td>14</td>\n",
       "    </tr>\n",
       "    <tr>\n",
       "      <th>36</th>\n",
       "      <td>Shaira</td>\n",
       "      <td>pass</td>\n",
       "      <td>11</td>\n",
       "    </tr>\n",
       "    <tr>\n",
       "      <th>37</th>\n",
       "      <td>Thomas</td>\n",
       "      <td>failed</td>\n",
       "      <td>9</td>\n",
       "    </tr>\n",
       "    <tr>\n",
       "      <th>38</th>\n",
       "      <td>Timothy</td>\n",
       "      <td>pass</td>\n",
       "      <td>10</td>\n",
       "    </tr>\n",
       "    <tr>\n",
       "      <th>39</th>\n",
       "      <td>William</td>\n",
       "      <td>pass</td>\n",
       "      <td>10</td>\n",
       "    </tr>\n",
       "  </tbody>\n",
       "</table>\n",
       "</div>"
      ],
      "text/plain": [
       "           Name thesis result  Hours\n",
       "0        Amanda          pass      5\n",
       "1        Andrew        failed      6\n",
       "2        Ashley          pass     10\n",
       "3         Betty          pass     12\n",
       "4       Brandon          pass     10\n",
       "5         Brian          pass      8\n",
       "6         Carol        failed     10\n",
       "7       Charles        failed     12\n",
       "8   Christopher          pass     20\n",
       "9        Daniel          pass     16\n",
       "10        David          pass      1\n",
       "11      Deborah          pass     22\n",
       "12        Donna        failed     10\n",
       "13      Dorothy        failed     12\n",
       "14       Edward        failed     11\n",
       "15        Emily          pass      2\n",
       "16       George          pass      9\n",
       "17        James          pass     10\n",
       "18        Jason          pass     10\n",
       "19         John        failed     15\n",
       "20       Joseph          pass     21\n",
       "21       Joshua          pass     12\n",
       "22      Kenneth          pass      8\n",
       "23        Kevin        failed      5\n",
       "24     Kimberly        failed      2\n",
       "25         Lisa          pass     12\n",
       "26     Margaret        failed     13\n",
       "27      Marissa        failed     18\n",
       "28      Matthew        failed     14\n",
       "29      Melissa          pass     12\n",
       "30      Michael        failed     17\n",
       "31         Paul        failed     22\n",
       "32      Richard          pass     13\n",
       "33       Robert          pass     14\n",
       "34       Ronald          pass     17\n",
       "35       Sandra          pass     14\n",
       "36       Shaira          pass     11\n",
       "37       Thomas        failed      9\n",
       "38      Timothy          pass     10\n",
       "39      William          pass     10"
      ]
     },
     "execution_count": 3,
     "metadata": {},
     "output_type": "execute_result"
    }
   ],
   "source": [
    "df"
   ]
  },
  {
   "cell_type": "markdown",
   "metadata": {},
   "source": [
    "### this shows how to compute the mean and mode"
   ]
  },
  {
   "cell_type": "code",
   "execution_count": 4,
   "metadata": {},
   "outputs": [
    {
     "name": "stdout",
     "output_type": "stream",
     "text": [
      "Average hours of Student to finish their thesis:  11.625\n",
      "Most frequent hours of Student to finish their thesis:  0    10\n",
      "dtype: int64\n",
      "The middle hour among the hour list of Student to finish their thesis:  11.5\n"
     ]
    }
   ],
   "source": [
    "hourMean = df[\"Hours\"].mean()\n",
    "print(\"Average hours of Student to finish their thesis: \",hourMean)\n",
    "\n",
    "hourMode = df[\"Hours\"].mode()\n",
    "print(\"Most frequent hours of Student to finish their thesis: \",hourMode)\n",
    "\n",
    "hourMedian = df[\"Hours\"].median()\n",
    "print(\"The middle hour among the hour list of Student to finish their thesis: \",hourMedian)"
   ]
  },
  {
   "cell_type": "markdown",
   "metadata": {},
   "source": [
    "# Measure of Central Tendency\n",
    "\n",
    "Base from the result \n",
    "\n",
    "The **Mean or Average** hours of the students to finish their thesis is **11.65 hours** \n",
    "\n",
    "The **Mode** or the **most frequent** in finishing their thesis is **10 hours** \n",
    "\n",
    "The **Median** or the **center among the list** in finishing their thesis is **11.5 hours** "
   ]
  },
  {
   "cell_type": "markdown",
   "metadata": {},
   "source": [
    "# DISPERSION"
   ]
  },
  {
   "cell_type": "markdown",
   "metadata": {},
   "source": [
    "### VARIANCE of Hours in finishing their Thesis Projects\n",
    "\n",
    "Based from the result the variance of the hours is **5.072235**"
   ]
  },
  {
   "cell_type": "code",
   "execution_count": 5,
   "metadata": {
    "scrolled": true
   },
   "outputs": [
    {
     "data": {
      "text/plain": [
       "Hours    25.727564\n",
       "dtype: float64"
      ]
     },
     "execution_count": 5,
     "metadata": {},
     "output_type": "execute_result"
    }
   ],
   "source": [
    "df.var()"
   ]
  },
  {
   "cell_type": "markdown",
   "metadata": {},
   "source": [
    "### STANDARD DEVIATION of Hours in finishing their Thesis Projects\n",
    "\n",
    "Based from the result the standard deviation of the hours is **5.072235**"
   ]
  },
  {
   "cell_type": "code",
   "execution_count": 6,
   "metadata": {},
   "outputs": [
    {
     "data": {
      "text/plain": [
       "Hours    5.072235\n",
       "dtype: float64"
      ]
     },
     "execution_count": 6,
     "metadata": {},
     "output_type": "execute_result"
    }
   ],
   "source": [
    "df.std()"
   ]
  },
  {
   "cell_type": "markdown",
   "metadata": {},
   "source": [
    "### MEAN DEVIATION of Hours in finishing their Thesis Projects\n",
    "\n",
    "Based from the result the mean deviation of the hours is **3.775**"
   ]
  },
  {
   "cell_type": "code",
   "execution_count": 7,
   "metadata": {},
   "outputs": [
    {
     "data": {
      "text/plain": [
       "Hours    3.775\n",
       "dtype: float64"
      ]
     },
     "execution_count": 7,
     "metadata": {},
     "output_type": "execute_result"
    }
   ],
   "source": [
    "df.mad()"
   ]
  },
  {
   "cell_type": "code",
   "execution_count": 8,
   "metadata": {},
   "outputs": [],
   "source": [
    "students = df[\"thesis result\"].values.tolist()"
   ]
  },
  {
   "cell_type": "code",
   "execution_count": 9,
   "metadata": {},
   "outputs": [],
   "source": [
    "failedResult = students.count(\"failed\")\n",
    "passResult = students.count(\"pass\")"
   ]
  },
  {
   "cell_type": "markdown",
   "metadata": {},
   "source": [
    "## BAR GRAPH \n",
    "\n",
    "Number of students who failed and pass the thesis "
   ]
  },
  {
   "cell_type": "code",
   "execution_count": 10,
   "metadata": {},
   "outputs": [
    {
     "data": {
      "image/png": "[encoded data removed]",
      "text/plain": [
       "<Figure size 432x288 with 1 Axes>"
      ]
     },
     "metadata": {
      "needs_background": "light"
     },
     "output_type": "display_data"
    }
   ],
   "source": [
    "fig = plt.figure()\n",
    "ax = fig.add_axes([0,0,1,1])\n",
    "resultType = [\"Pass\", \"Fail\"]\n",
    "resultNumber = [passResult, failedResult]\n",
    "ax.bar(resultType,resultNumber)\n",
    "plt.show()"
   ]
  },
  {
   "cell_type": "markdown",
   "metadata": {},
   "source": [
    "# HISTOGRAM \n",
    "\n",
    "Number of students finishing their thesis "
   ]
  },
  {
   "cell_type": "code",
   "execution_count": 11,
   "metadata": {},
   "outputs": [],
   "source": [
    "hoursToFinish = df[\"Hours\"].values.tolist()"
   ]
  },
  {
   "cell_type": "code",
   "execution_count": 12,
   "metadata": {},
   "outputs": [
    {
     "data": {
      "image/png": "[encoded data removed]",
      "text/plain": [
       "<Figure size 432x288 with 1 Axes>"
      ]
     },
     "metadata": {
      "needs_background": "light"
     },
     "output_type": "display_data"
    }
   ],
   "source": [
    "x = sorted(hoursToFinish)\n",
    "num_bins = 20\n",
    "plt.hist(x)\n",
    "plt.show()"
   ]
  },
  {
   "cell_type": "markdown",
   "metadata": {},
   "source": [
    "## PIE CHART\n",
    "\n",
    "Proportion number of students who pass and failed in thesis project"
   ]
  },
  {
   "cell_type": "code",
   "execution_count": 13,
   "metadata": {},
   "outputs": [
    {
     "data": {
      "image/png": "[encoded data removed]",
      "text/plain": [
       "<Figure size 432x288 with 1 Axes>"
      ]
     },
     "metadata": {},
     "output_type": "display_data"
    }
   ],
   "source": [
    "fig = plt.figure()\n",
    "ax = fig.add_axes([0,0,1,1])\n",
    "ax.axis('equal')\n",
    "resultType = [\"Pass\", \"Fail\"]\n",
    "resultNumber = [passResult, failedResult]\n",
    "ax.pie(resultNumber, labels=resultType,autopct='%1.2f%%')\n",
    "plt.show()"
   ]
  },
  {
   "cell_type": "code",
   "execution_count": 14,
   "metadata": {},
   "outputs": [],
   "source": [
    "rangeHours = max(hoursToFinish) - min(hoursToFinish)\n",
    "interval = rangeHours/(len(hoursToFinish)**0.5)\n",
    "interval = (round(interval))"
   ]
  },
  {
   "cell_type": "code",
   "execution_count": 15,
   "metadata": {},
   "outputs": [],
   "source": [
    "dframe = pd.DataFrame({'hours': hoursToFinish})\n",
    "bins = np.arange(0,dframe.stack().max()+(interval+1),interval)"
   ]
  },
  {
   "cell_type": "markdown",
   "metadata": {},
   "source": [
    "## Table Hours to Finish the Thesis of the students "
   ]
  },
  {
   "cell_type": "code",
   "execution_count": 16,
   "metadata": {},
   "outputs": [
    {
     "data": {
      "text/plain": [
       "hours\n",
       "(0, 3]       3\n",
       "(3, 6]       3\n",
       "(6, 9]       4\n",
       "(9, 12]     16\n",
       "(12, 15]     6\n",
       "(15, 18]     4\n",
       "(18, 21]     2\n",
       "(21, 24]     2\n",
       "Name: hours, dtype: int64"
      ]
     },
     "execution_count": 16,
     "metadata": {},
     "output_type": "execute_result"
    }
   ],
   "source": [
    "dframe.groupby(pd.cut(dframe.hours, bins=bins)).hours.count()"
   ]
  },
  {
   "cell_type": "markdown",
   "metadata": {},
   "source": [
    "# FREQUENCY DISTRIBUTION\n",
    "\n",
    "\n",
    "\n",
    "**Hours**|**Number of Students**\n",
    ":-----:|:-----:\n",
    "0-2|3\n",
    "3-5|3\n",
    "6-8|4\n",
    "9-11    | 16\n",
    "12-14  |   6\n",
    "15-17|4\n",
    "18-20|2\n",
    "21-23|\t2"
   ]
  },
  {
   "cell_type": "markdown",
   "metadata": {},
   "source": [
    "Written by: Raizen Sangalang"
   ]
  },
  {
   "cell_type": "code",
   "execution_count": null,
   "metadata": {},
   "outputs": [],
   "source": []
  }
 ],
 "metadata": {
  "colab": {
   "name": "THESIS-RESULT-Raizen Sangalang.ipynb",
   "provenance": []
  },
  "kernelspec": {
   "display_name": "Python 3",
   "language": "python",
   "name": "python3"
  },
  "language_info": {
   "codemirror_mode": {
    "name": "ipython",
    "version": 3
   },
   "file_extension": ".py",
   "mimetype": "text/x-python",
   "name": "python",
   "nbconvert_exporter": "python",
   "pygments_lexer": "ipython3",
   "version": "3.9.0"
  }
 },
 "nbformat": 4,
 "nbformat_minor": 1
}
