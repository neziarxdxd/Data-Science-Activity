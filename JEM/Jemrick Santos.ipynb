{
 "cells": [
  {
   "cell_type": "markdown",
   "metadata": {
    "id": "cSh3pTWIWnDP"
   },
   "source": [
    "# Activity 3\n",
    "\n",
    "List down at least 20 samples given the attributes.\n",
    "\n",
    "\n",
    "Describe each variable  (thesis result and hours,  without looking at the relationship between the attributes) \n",
    "\n",
    "\n",
    "including:Level of measurement: Nominal, Ordinal, Interval, Ratio\n",
    "\n",
    "\n",
    "Description pattern used: central tendency, dispersion, frequency distribution\n",
    "and graphical representation. (ex, pie char, histogram)\n"
   ]
  },
  {
   "cell_type": "code",
   "execution_count": 3,
   "metadata": {
    "id": "vcbKFlnvW9vx"
   },
   "outputs": [],
   "source": [
    "import pandas as pd\n",
    "import numpy as np\n",
    "#importing libraries essential for data visualization\n",
    "import matplotlib.pyplot as plt\n",
    "import matplotlib.mlab as mlab\n",
    "%matplotlib inline\n",
    "# import seaborn as sns\n",
    "df=pd.read_csv(\"Book1.csv\")"
   ]
  },
  {
   "cell_type": "markdown",
   "metadata": {},
   "source": [
    "## THESIS RESULT\n",
    "\n",
    "HOURS level of measurement: **RATIO**\n",
    "\n",
    "THESIS RESULT of measurement **NOMINAL**"
   ]
  },
  {
   "cell_type": "code",
   "execution_count": 4,
   "metadata": {
    "scrolled": true
   },
   "outputs": [
    {
     "data": {
      "text/html": [
       "<div>\n",
       "<style scoped>\n",
       "    .dataframe tbody tr th:only-of-type {\n",
       "        vertical-align: middle;\n",
       "    }\n",
       "\n",
       "    .dataframe tbody tr th {\n",
       "        vertical-align: top;\n",
       "    }\n",
       "\n",
       "    .dataframe thead th {\n",
       "        text-align: right;\n",
       "    }\n",
       "</style>\n",
       "<table border=\"1\" class=\"dataframe\">\n",
       "  <thead>\n",
       "    <tr style=\"text-align: right;\">\n",
       "      <th></th>\n",
       "      <th>Name</th>\n",
       "      <th>Result</th>\n",
       "      <th>Hours</th>\n",
       "    </tr>\n",
       "  </thead>\n",
       "  <tbody>\n",
       "    <tr>\n",
       "      <th>0</th>\n",
       "      <td>Frank</td>\n",
       "      <td>Passed</td>\n",
       "      <td>80</td>\n",
       "    </tr>\n",
       "    <tr>\n",
       "      <th>1</th>\n",
       "      <td>Annie</td>\n",
       "      <td>Failed</td>\n",
       "      <td>68</td>\n",
       "    </tr>\n",
       "    <tr>\n",
       "      <th>2</th>\n",
       "      <td>Edward</td>\n",
       "      <td>Passed</td>\n",
       "      <td>85</td>\n",
       "    </tr>\n",
       "    <tr>\n",
       "      <th>3</th>\n",
       "      <td>Victor</td>\n",
       "      <td>Passed</td>\n",
       "      <td>86</td>\n",
       "    </tr>\n",
       "    <tr>\n",
       "      <th>4</th>\n",
       "      <td>Robinson</td>\n",
       "      <td>Failed</td>\n",
       "      <td>65</td>\n",
       "    </tr>\n",
       "    <tr>\n",
       "      <th>5</th>\n",
       "      <td>Lisa</td>\n",
       "      <td>Failed</td>\n",
       "      <td>73</td>\n",
       "    </tr>\n",
       "    <tr>\n",
       "      <th>6</th>\n",
       "      <td>Joshua</td>\n",
       "      <td>Passed</td>\n",
       "      <td>73</td>\n",
       "    </tr>\n",
       "    <tr>\n",
       "      <th>7</th>\n",
       "      <td>Stewart</td>\n",
       "      <td>Failed</td>\n",
       "      <td>79</td>\n",
       "    </tr>\n",
       "    <tr>\n",
       "      <th>8</th>\n",
       "      <td>Lori</td>\n",
       "      <td>Failed</td>\n",
       "      <td>76</td>\n",
       "    </tr>\n",
       "    <tr>\n",
       "      <th>9</th>\n",
       "      <td>Kathryn</td>\n",
       "      <td>Failed</td>\n",
       "      <td>69</td>\n",
       "    </tr>\n",
       "    <tr>\n",
       "      <th>10</th>\n",
       "      <td>Eric</td>\n",
       "      <td>Passed</td>\n",
       "      <td>88</td>\n",
       "    </tr>\n",
       "    <tr>\n",
       "      <th>11</th>\n",
       "      <td>Simmons</td>\n",
       "      <td>Passed</td>\n",
       "      <td>87</td>\n",
       "    </tr>\n",
       "    <tr>\n",
       "      <th>12</th>\n",
       "      <td>Ruth</td>\n",
       "      <td>Passed</td>\n",
       "      <td>80</td>\n",
       "    </tr>\n",
       "    <tr>\n",
       "      <th>13</th>\n",
       "      <td>Howard</td>\n",
       "      <td>Passed</td>\n",
       "      <td>80</td>\n",
       "    </tr>\n",
       "    <tr>\n",
       "      <th>14</th>\n",
       "      <td>Sharon</td>\n",
       "      <td>Failed</td>\n",
       "      <td>73</td>\n",
       "    </tr>\n",
       "    <tr>\n",
       "      <th>15</th>\n",
       "      <td>Taylor</td>\n",
       "      <td>Passed</td>\n",
       "      <td>78</td>\n",
       "    </tr>\n",
       "    <tr>\n",
       "      <th>16</th>\n",
       "      <td>Carl</td>\n",
       "      <td>Failed</td>\n",
       "      <td>75</td>\n",
       "    </tr>\n",
       "    <tr>\n",
       "      <th>17</th>\n",
       "      <td>Rachel</td>\n",
       "      <td>Failed</td>\n",
       "      <td>72</td>\n",
       "    </tr>\n",
       "    <tr>\n",
       "      <th>18</th>\n",
       "      <td>Kathy</td>\n",
       "      <td>Passed</td>\n",
       "      <td>75</td>\n",
       "    </tr>\n",
       "    <tr>\n",
       "      <th>19</th>\n",
       "      <td>Paula</td>\n",
       "      <td>Passed</td>\n",
       "      <td>89</td>\n",
       "    </tr>\n",
       "  </tbody>\n",
       "</table>\n",
       "</div>"
      ],
      "text/plain": [
       "        Name  Result  Hours\n",
       "0      Frank  Passed     80\n",
       "1      Annie  Failed     68\n",
       "2     Edward  Passed     85\n",
       "3     Victor  Passed     86\n",
       "4   Robinson  Failed     65\n",
       "5       Lisa  Failed     73\n",
       "6     Joshua  Passed     73\n",
       "7    Stewart  Failed     79\n",
       "8       Lori  Failed     76\n",
       "9    Kathryn  Failed     69\n",
       "10      Eric  Passed     88\n",
       "11   Simmons  Passed     87\n",
       "12      Ruth  Passed     80\n",
       "13    Howard  Passed     80\n",
       "14    Sharon  Failed     73\n",
       "15    Taylor  Passed     78\n",
       "16      Carl  Failed     75\n",
       "17    Rachel  Failed     72\n",
       "18     Kathy  Passed     75\n",
       "19     Paula  Passed     89"
      ]
     },
     "execution_count": 4,
     "metadata": {},
     "output_type": "execute_result"
    }
   ],
   "source": [
    "df"
   ]
  },
  {
   "cell_type": "markdown",
   "metadata": {},
   "source": [
    "### Measure of Central Tendency"
   ]
  },
  {
   "cell_type": "code",
   "execution_count": 6,
   "metadata": {},
   "outputs": [
    {
     "name": "stdout",
     "output_type": "stream",
     "text": [
      "Mean:  77.55\n",
      "Mode:  0    73\n",
      "1    80\n",
      "dtype: int64\n",
      "Median:  77.0\n"
     ]
    }
   ],
   "source": [
    "hourMean = df[\"Hours\"].mean()\n",
    "print(\"Mean: \",hourMean)\n",
    "\n",
    "hourMode = df[\"Hours\"].mode()\n",
    "print(\"Mode: \",hourMode)\n",
    "\n",
    "hourMedian = df[\"Hours\"].median()\n",
    "print(\"Median: \",hourMedian)"
   ]
  },
  {
   "cell_type": "markdown",
   "metadata": {},
   "source": [
    "# Measure of Central Tendency\n",
    "\n",
    "**Mean:** 77.55\n",
    "\n",
    "**Median:** 77\n",
    "\n",
    "**Mode:** 80 and 73"
   ]
  },
  {
   "cell_type": "markdown",
   "metadata": {},
   "source": [
    "# DISPERSION"
   ]
  },
  {
   "cell_type": "code",
   "execution_count": 7,
   "metadata": {
    "scrolled": true
   },
   "outputs": [
    {
     "data": {
      "text/plain": [
       "Hours    47.734211\n",
       "dtype: float64"
      ]
     },
     "execution_count": 7,
     "metadata": {},
     "output_type": "execute_result"
    }
   ],
   "source": [
    "df.var()"
   ]
  },
  {
   "cell_type": "code",
   "execution_count": 6,
   "metadata": {
    "scrolled": true
   },
   "outputs": [
    {
     "data": {
      "text/plain": [
       "Hours    5.072235\n",
       "dtype: float64"
      ]
     },
     "execution_count": 6,
     "metadata": {},
     "output_type": "execute_result"
    }
   ],
   "source": [
    "\n",
    "df.std()"
   ]
  },
  {
   "cell_type": "code",
   "execution_count": 8,
   "metadata": {},
   "outputs": [
    {
     "data": {
      "text/plain": [
       "Hours    5.65\n",
       "dtype: float64"
      ]
     },
     "execution_count": 8,
     "metadata": {},
     "output_type": "execute_result"
    }
   ],
   "source": [
    "df.mad()"
   ]
  },
  {
   "cell_type": "markdown",
   "metadata": {},
   "source": [
    "# DISPERSION\n",
    "\n",
    "### MEAN DEVIATION\n",
    "\n",
    "mean deviation of the hours is **5.072235**\n",
    "\n",
    "### VARIANCE\n",
    "\n",
    "Variance is **47.734211**\n",
    "\n",
    "### STANDARD DEVIATION\n",
    "\n",
    "standard deviation of the hours is **5.65**"
   ]
  },
  {
   "cell_type": "code",
   "execution_count": 10,
   "metadata": {},
   "outputs": [],
   "source": [
    "students = df[\"Result\"].values.tolist()"
   ]
  },
  {
   "cell_type": "code",
   "execution_count": 11,
   "metadata": {},
   "outputs": [],
   "source": [
    "failedResult = students.count(\"Failed\")\n",
    "passResult = students.count(\"Passed\")"
   ]
  },
  {
   "cell_type": "markdown",
   "metadata": {},
   "source": [
    "## BAR GRAPH \n",
    "\n",
    "Number of students who failed and pass the thesis "
   ]
  },
  {
   "cell_type": "code",
   "execution_count": 12,
   "metadata": {},
   "outputs": [
    {
     "data": {
      "image/png": "[encoded data removed]",
      "text/plain": [
       "<Figure size 432x288 with 1 Axes>"
      ]
     },
     "metadata": {
      "needs_background": "light"
     },
     "output_type": "display_data"
    }
   ],
   "source": [
    "fig = plt.figure()\n",
    "ax = fig.add_axes([0,0,1,1])\n",
    "resultType = [\"Passed\", \"Failed\"]\n",
    "resultNumber = [passResult, failedResult]\n",
    "ax.bar(resultType,resultNumber)\n",
    "plt.show()"
   ]
  },
  {
   "cell_type": "markdown",
   "metadata": {},
   "source": [
    "# HISTOGRAM \n",
    "\n",
    "Number of students finishing their thesis "
   ]
  },
  {
   "cell_type": "code",
   "execution_count": 13,
   "metadata": {},
   "outputs": [],
   "source": [
    "hoursToFinish = df[\"Hours\"].values.tolist()"
   ]
  },
  {
   "cell_type": "code",
   "execution_count": 14,
   "metadata": {},
   "outputs": [
    {
     "data": {
      "image/png": "[encoded data removed]",
      "text/plain": [
       "<Figure size 432x288 with 1 Axes>"
      ]
     },
     "metadata": {
      "needs_background": "light"
     },
     "output_type": "display_data"
    }
   ],
   "source": [
    "x = sorted(hoursToFinish)\n",
    "num_bins = 20\n",
    "plt.hist(x)\n",
    "plt.show()"
   ]
  },
  {
   "cell_type": "markdown",
   "metadata": {},
   "source": [
    "## PIE CHART\n",
    "\n",
    "Proportion number of students who pass and failed in thesis project"
   ]
  },
  {
   "cell_type": "code",
   "execution_count": 15,
   "metadata": {},
   "outputs": [
    {
     "data": {
      "image/png": "[encoded data removed]",
      "text/plain": [
       "<Figure size 432x288 with 1 Axes>"
      ]
     },
     "metadata": {},
     "output_type": "display_data"
    }
   ],
   "source": [
    "fig = plt.figure()\n",
    "ax = fig.add_axes([0,0,1,1])\n",
    "ax.axis('equal')\n",
    "resultType = [\"Pass\", \"Fail\"]\n",
    "resultNumber = [passResult, failedResult]\n",
    "ax.pie(resultNumber, labels=resultType,autopct='%1.2f%%')\n",
    "plt.show()"
   ]
  },
  {
   "cell_type": "code",
   "execution_count": 16,
   "metadata": {},
   "outputs": [],
   "source": [
    "rangeHours = max(hoursToFinish) - min(hoursToFinish)\n",
    "interval = rangeHours/(len(hoursToFinish)**0.5)\n",
    "interval = (round(interval))"
   ]
  },
  {
   "cell_type": "code",
   "execution_count": 19,
   "metadata": {},
   "outputs": [],
   "source": [
    "dframe = pd.DataFrame({'hours': hoursToFinish})\n",
    "bins = np.arange(59,dframe.stack().max()+(interval+1),interval)"
   ]
  },
  {
   "cell_type": "markdown",
   "metadata": {},
   "source": [
    "## Table Hours to Finish the Thesis of the students "
   ]
  },
  {
   "cell_type": "code",
   "execution_count": 20,
   "metadata": {},
   "outputs": [
    {
     "data": {
      "text/plain": [
       "hours\n",
       "(59, 64]    0\n",
       "(64, 69]    3\n",
       "(69, 74]    4\n",
       "(74, 79]    5\n",
       "(79, 84]    3\n",
       "(84, 89]    5\n",
       "(89, 94]    0\n",
       "Name: hours, dtype: int64"
      ]
     },
     "execution_count": 20,
     "metadata": {},
     "output_type": "execute_result"
    }
   ],
   "source": [
    "dframe.groupby(pd.cut(dframe.hours, bins=bins)).hours.count()"
   ]
  },
  {
   "cell_type": "markdown",
   "metadata": {},
   "source": []
  },
  {
   "cell_type": "code",
   "execution_count": null,
   "metadata": {},
   "outputs": [],
   "source": []
  }
 ],
 "metadata": {
  "colab": {
   "name": "THESIS-RESULT-Raizen Sangalang.ipynb",
   "provenance": []
  },
  "kernelspec": {
   "display_name": "Python 3",
   "language": "python",
   "name": "python3"
  },
  "language_info": {
   "codemirror_mode": {
    "name": "ipython",
    "version": 3
   },
   "file_extension": ".py",
   "mimetype": "text/x-python",
   "name": "python",
   "nbconvert_exporter": "python",
   "pygments_lexer": "ipython3",
   "version": "3.9.0"
  }
 },
 "nbformat": 4,
 "nbformat_minor": 1
}
