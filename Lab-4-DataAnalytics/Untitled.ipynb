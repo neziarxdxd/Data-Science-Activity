{
 "cells": [
  {
   "cell_type": "code",
   "execution_count": 1,
   "id": "8d2e9980",
   "metadata": {},
   "outputs": [
    {
     "name": "stdout",
     "output_type": "stream",
     "text": [
      "Collecting speedtest-cli\n",
      "  Downloading speedtest_cli-2.1.3-py2.py3-none-any.whl (23 kB)\n",
      "Installing collected packages: speedtest-cli\n",
      "Successfully installed speedtest-cli-2.1.3\n"
     ]
    },
    {
     "name": "stderr",
     "output_type": "stream",
     "text": [
      "WARNING: You are using pip version 20.2.3; however, version 21.2.4 is available.\n",
      "You should consider upgrading via the 'c:\\users\\my-pc\\appdata\\local\\programs\\python\\python39\\python.exe -m pip install --upgrade pip' command.\n"
     ]
    }
   ],
   "source": [
    "#code 1\n",
    "!pip install speedtest-cli"
   ]
  },
  {
   "cell_type": "code",
   "execution_count": 5,
   "id": "f069fcdb",
   "metadata": {},
   "outputs": [],
   "source": [
    "#code 2\n",
    "import datetime\n",
    "import csv\n",
    "import subprocess"
   ]
  },
  {
   "cell_type": "code",
   "execution_count": 6,
   "id": "6db2d402",
   "metadata": {},
   "outputs": [
    {
     "name": "stdout",
     "output_type": "stream",
     "text": [
      "2021-09-22 15:55:23.271676 <class 'datetime.datetime'>\n"
     ]
    }
   ],
   "source": [
    "#code 3\n",
    "date_time = datetime.datetime.now()\n",
    "print(date_time, type(date_time))"
   ]
  },
  {
   "cell_type": "code",
   "execution_count": 7,
   "id": "130753c0",
   "metadata": {},
   "outputs": [
    {
     "data": {
      "text/plain": [
       "'Wed, 22 Sep 2021 15:55:23'"
      ]
     },
     "execution_count": 7,
     "metadata": {},
     "output_type": "execute_result"
    }
   ],
   "source": [
    "#code 4\n",
    "date_time.strftime('%a, %d %b %Y %H:%M:%S')"
   ]
  },
  {
   "cell_type": "code",
   "execution_count": 11,
   "id": "0eacf1b5",
   "metadata": {},
   "outputs": [
    {
     "data": {
      "text/plain": [
       "'2021-09-22 15:55:23'"
      ]
     },
     "execution_count": 11,
     "metadata": {},
     "output_type": "execute_result"
    }
   ],
   "source": [
    "\n",
    "\n",
    "\n",
    "\n",
    "\n",
    "\n",
    "date_time.strftime(\"%Y-%m-%d %H:%M:%S\")"
   ]
  },
  {
   "cell_type": "code",
   "execution_count": 12,
   "id": "affea065",
   "metadata": {},
   "outputs": [],
   "source": [
    "speedtest_cmd = \"speedtest-cli --simple\"\n",
    "process = subprocess.Popen(speedtest_cmd.split(),stdout=subprocess.PIPE)\n",
    "process_output = process.communicate()[0]"
   ]
  },
  {
   "cell_type": "code",
   "execution_count": 13,
   "id": "0fc906a3",
   "metadata": {},
   "outputs": [
    {
     "name": "stdout",
     "output_type": "stream",
     "text": [
      "b'Ping: 18.368 ms\\r\\nDownload: 4.05 Mbit/s\\r\\nUpload: 2.03 Mbit/s\\r\\n' <class 'bytes'>\n"
     ]
    }
   ],
   "source": [
    "print(process_output,type(process_output))"
   ]
  },
  {
   "cell_type": "code",
   "execution_count": 14,
   "id": "8f6f448a",
   "metadata": {},
   "outputs": [],
   "source": [
    "def speedtest():\n",
    "    date_time=datetime.datetime.now().strftime(\"%Y-%m-%d %H:%M:%S\")\n",
    "    speedtest_cmd = \"speedtest-cli --simple\"\n",
    "    process = subprocess.Popen(speedtest_cmd.split(),stdout=subprocess.PIPE)\n",
    "    process_output = process.communicate()[0]\n",
    "    process_output = process_output.split()\n",
    "    process_output.append(date_time)\n",
    "    return process_output\n"
   ]
  },
  {
   "cell_type": "code",
   "execution_count": 15,
   "id": "eb5748e5",
   "metadata": {},
   "outputs": [
    {
     "data": {
      "text/plain": [
       "[b'Ping:',\n",
       " b'15.593',\n",
       " b'ms',\n",
       " b'Download:',\n",
       " b'4.46',\n",
       " b'Mbit/s',\n",
       " b'Upload:',\n",
       " b'2.24',\n",
       " b'Mbit/s',\n",
       " '2021-09-22 16:07:06']"
      ]
     },
     "execution_count": 15,
     "metadata": {},
     "output_type": "execute_result"
    }
   ],
   "source": [
    "speedtest()"
   ]
  },
  {
   "cell_type": "code",
   "execution_count": null,
   "id": "7043821c",
   "metadata": {},
   "outputs": [],
   "source": [
    "with open(\"/tmp/test.txt\",'w') as f:\n",
    "    f.write('test_msg')"
   ]
  }
 ],
 "metadata": {
  "kernelspec": {
   "display_name": "Python 3",
   "language": "python",
   "name": "python3"
  },
  "language_info": {
   "codemirror_mode": {
    "name": "ipython",
    "version": 3
   },
   "file_extension": ".py",
   "mimetype": "text/x-python",
   "name": "python",
   "nbconvert_exporter": "python",
   "pygments_lexer": "ipython3",
   "version": "3.9.0"
  }
 },
 "nbformat": 4,
 "nbformat_minor": 5
}
