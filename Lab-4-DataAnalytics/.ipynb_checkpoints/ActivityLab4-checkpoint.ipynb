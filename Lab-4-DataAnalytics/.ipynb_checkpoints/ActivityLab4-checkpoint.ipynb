{
 "cells": [
  {
   "cell_type": "code",
   "execution_count": 1,
   "id": "4aef8d34",
   "metadata": {},
   "outputs": [
    {
     "name": "stdout",
     "output_type": "stream",
     "text": [
      "Requirement already satisfied: speedtest-cli in c:\\users\\my-pc\\appdata\\local\\programs\\python\\python39\\lib\\site-packages (2.1.3)\n"
     ]
    },
    {
     "name": "stderr",
     "output_type": "stream",
     "text": [
      "WARNING: You are using pip version 20.2.3; however, version 21.2.4 is available.\n",
      "You should consider upgrading via the 'c:\\users\\my-pc\\appdata\\local\\programs\\python\\python39\\python.exe -m pip install --upgrade pip' command.\n"
     ]
    }
   ],
   "source": [
    "# Code cell 1\n",
    "!pip install speedtest-cli"
   ]
  },
  {
   "cell_type": "code",
   "execution_count": 2,
   "id": "65a7b12c",
   "metadata": {},
   "outputs": [],
   "source": [
    "# Code cell 2\n",
    "# Python library to manage date and time data\n",
    "import datetime\n",
    "# Python library to read and write csv files\n",
    "import csv\n",
    "# Python library to execute bash commands from the notebook.\n",
    "# If you want to know more about this, check this resource: \n",
    "# http://www.pythonforbeginners.com/os/subprocess-for-system-administrators\n",
    "import subprocess"
   ]
  },
  {
   "cell_type": "code",
   "execution_count": 3,
   "id": "2318cffa",
   "metadata": {},
   "outputs": [
    {
     "name": "stdout",
     "output_type": "stream",
     "text": [
      "2021-09-24 22:12:55.604796 <class 'datetime.datetime'>\n"
     ]
    }
   ],
   "source": [
    "# Code cell 3\n",
    "date_time = datetime.datetime.now()\n",
    "print(date_time, type(date_time))"
   ]
  },
  {
   "cell_type": "code",
   "execution_count": 4,
   "id": "7b9a32e6",
   "metadata": {
    "scrolled": true
   },
   "outputs": [
    {
     "data": {
      "text/plain": [
       "'Fri, 24 Sep 2021 22:12:55'"
      ]
     },
     "execution_count": 4,
     "metadata": {},
     "output_type": "execute_result"
    }
   ],
   "source": [
    "# Code cell 4\n",
    "date_time.strftime('%a, %d %b %Y %H:%M:%S')"
   ]
  },
  {
   "cell_type": "markdown",
   "id": "4704bdab",
   "metadata": {},
   "source": [
    "After reading the documentation of the strftime function, generate a timestamp and parse it into a string with the following format: YYYY-MM-DD HH:MM:SS."
   ]
  },
  {
   "cell_type": "code",
   "execution_count": 5,
   "id": "d2d73750",
   "metadata": {},
   "outputs": [
    {
     "data": {
      "text/plain": [
       "'2021-09-24 22:12:55'"
      ]
     },
     "execution_count": 5,
     "metadata": {},
     "output_type": "execute_result"
    }
   ],
   "source": [
    "# Code cell 5\n",
    "date_time.strftime('%Y-%m-%d %H:%M:%S')"
   ]
  },
  {
   "cell_type": "code",
   "execution_count": 6,
   "id": "4740a457",
   "metadata": {},
   "outputs": [],
   "source": [
    "# Code cell 6\n",
    "# This string contains the command line to interface with speedtest.net\n",
    "speedtest_cmd = \"speedtest-cli --simple\"\n",
    "# Execute the process\n",
    "process = subprocess.Popen(speedtest_cmd.split(), stdout=subprocess.PIPE)\n",
    "# Collect the command output\n",
    "process_output = process.communicate()[0]"
   ]
  },
  {
   "cell_type": "code",
   "execution_count": 7,
   "id": "3b5478c5",
   "metadata": {},
   "outputs": [
    {
     "name": "stdout",
     "output_type": "stream",
     "text": [
      "b'Ping: 19.209 ms\\r\\nDownload: 4.64 Mbit/s\\r\\nUpload: 2.09 Mbit/s\\r\\n' <class 'bytes'>\n"
     ]
    }
   ],
   "source": [
    "# Code cell 7\n",
    "print(process_output, type(process_output))"
   ]
  },
  {
   "cell_type": "code",
   "execution_count": 8,
   "id": "e1460a49",
   "metadata": {},
   "outputs": [
    {
     "name": "stdout",
     "output_type": "stream",
     "text": [
      "[b'Ping:', b'19.209', b'ms', b'Download:', b'4.64', b'Mbit/s', b'Upload:', b'2.09', b'Mbit/s', '2021-09-24 22:13:20'] <class 'list'>\n"
     ]
    }
   ],
   "source": [
    "# Code cell 8\n",
    "# Store the time at which the speedtest was executed\n",
    "date_time = datetime.datetime.now().strftime(\"%Y-%m-%d %H:%M:%S\")\n",
    "process_output = process_output.split()\n",
    "process_output.append(date_time)\n",
    "print(process_output, type(process_output))"
   ]
  },
  {
   "cell_type": "code",
   "execution_count": 9,
   "id": "4b1ba17b",
   "metadata": {},
   "outputs": [],
   "source": [
    "# Code cell 9\n",
    "# function to excute the speed test\n",
    "def speedtest():\n",
    "    # We need to store the time at which the speedtest was executed\n",
    "    date_time = datetime.datetime.now().strftime(\"%Y-%m-%d %H:%M:%S\")\n",
    "    # This is a string that contains what we would write on the command line \n",
    "    #to interface with speedtest.net\n",
    "    speedtest_cmd = \"speedtest-cli --simple\"\n",
    "    # We now execute the process: \n",
    "    process = subprocess.Popen(speedtest_cmd.split(), stdout=subprocess.PIPE)\n",
    "    process_output = process.communicate()[0]\n",
    "    process_output = process_output.split()\n",
    "    # and we add the date and time \n",
    "    process_output.append(date_time)\n",
    "    return process_output"
   ]
  },
  {
   "cell_type": "code",
   "execution_count": 10,
   "id": "312d04fa",
   "metadata": {},
   "outputs": [
    {
     "data": {
      "text/plain": [
       "[b'Ping:',\n",
       " b'17.426',\n",
       " b'ms',\n",
       " b'Download:',\n",
       " b'3.13',\n",
       " b'Mbit/s',\n",
       " b'Upload:',\n",
       " b'1.87',\n",
       " b'Mbit/s',\n",
       " '2021-09-24 22:13:20']"
      ]
     },
     "execution_count": 10,
     "metadata": {},
     "output_type": "execute_result"
    }
   ],
   "source": [
    "# Code cell 10 \n",
    "# Code to view the results from speedtest() function\n",
    "speedtest()"
   ]
  },
  {
   "cell_type": "code",
   "execution_count": 11,
   "id": "613dfec6",
   "metadata": {},
   "outputs": [],
   "source": [
    "# Code cell 11\n",
    "with open(\"tmp/test.txt\",'w') as f:\n",
    "    f.write('test_msg')"
   ]
  },
  {
   "cell_type": "code",
   "execution_count": 12,
   "id": "5dca2944",
   "metadata": {},
   "outputs": [
    {
     "name": "stderr",
     "output_type": "stream",
     "text": [
      "'cat' is not recognized as an internal or external command,\n",
      "operable program or batch file.\n"
     ]
    }
   ],
   "source": [
    "# Code cell 12\n",
    "!cat /tmp/test.txt"
   ]
  },
  {
   "cell_type": "code",
   "execution_count": 13,
   "id": "39a234ac",
   "metadata": {},
   "outputs": [
    {
     "name": "stdout",
     "output_type": "stream",
     "text": [
      "test_msg\n"
     ]
    }
   ],
   "source": [
    "# Code cell 13\n",
    "with open(\"tmp/test.txt\",'r') as f:\n",
    "   str = f.read()\n",
    "print(str)"
   ]
  },
  {
   "cell_type": "code",
   "execution_count": 14,
   "id": "e55356be",
   "metadata": {},
   "outputs": [],
   "source": [
    "# Code cell 14\n",
    "# function to save data to csv\n",
    "def save_to_csv(data, filename):\n",
    "    try:\n",
    "        # If the file exists, we want to append a new line to it, with the \n",
    "        #results of the current experiment\n",
    "        with open(filename + '.csv', 'a') as f:\n",
    "            wr = csv.writer(f)\n",
    "            wr.writerow(data)\n",
    "    except:\n",
    "        # If it does not exist, create the file first\n",
    "        with open(filename + '.csv', 'w') as f:\n",
    "            # Hint: This is similar to appending new lines to a file.\n",
    "            # Create a csv writer object\n",
    "            # ADD CODE HERE\n",
    "            # Save (write) to file\n",
    "            # ADD CODE HERE\n",
    "            wr = csv.writer(f)\n",
    "            wr.writerow(data)"
   ]
  },
  {
   "cell_type": "code",
   "execution_count": 15,
   "id": "68c0a1fd",
   "metadata": {},
   "outputs": [],
   "source": [
    "# Code cell 15\n",
    "def print_from_csv(filename): \n",
    "    with open(filename + '.csv', 'r') as f:\n",
    "            re = csv.reader(f)\n",
    "            # 1. Loop over the rows\n",
    "            # 2. print\n",
    "            for data in re:\n",
    "                print(data)"
   ]
  },
  {
   "cell_type": "code",
   "execution_count": 16,
   "id": "ddc002cc",
   "metadata": {
    "scrolled": true
   },
   "outputs": [
    {
     "name": "stdout",
     "output_type": "stream",
     "text": [
      "Test number 0\n",
      "[b'Ping:', b'15.554', b'ms', b'Download:', b'4.73', b'Mbit/s', b'Upload:', b'2.18', b'Mbit/s', '2021-09-24 22:13:45']\n",
      "Test number 1\n",
      "[b'Ping:', b'19.792', b'ms', b'Download:', b'4.69', b'Mbit/s', b'Upload:', b'1.91', b'Mbit/s', '2021-09-24 22:14:09']\n",
      "Test number 2\n",
      "['2021-09-24 22:14:37']\n",
      "Test number 3\n",
      "[b'Ping:', b'16.69', b'ms', b'Download:', b'4.30', b'Mbit/s', b'Upload:', b'2.12', b'Mbit/s', '2021-09-24 22:14:47']\n",
      "Test number 4\n",
      "[b'Ping:', b'15.364', b'ms', b'Download:', b'4.39', b'Mbit/s', b'Upload:', b'2.07', b'Mbit/s', '2021-09-24 22:15:12']\n"
     ]
    }
   ],
   "source": [
    "# Code cell 16\n",
    "for i in range(5):\n",
    "    speedtest_output = speedtest()\n",
    "    print('Test number {}'.format(i))\n",
    "    print(speedtest_output)\n",
    "    save_to_csv(speedtest_output, 'tmp/rpi_data_test')"
   ]
  },
  {
   "cell_type": "code",
   "execution_count": 18,
   "id": "33107926",
   "metadata": {},
   "outputs": [
    {
     "name": "stdout",
     "output_type": "stream",
     "text": [
      "[\"b'Ping:'\", \"b'15.554'\", \"b'ms'\", \"b'Download:'\", \"b'4.73'\", \"b'Mbit/s'\", \"b'Upload:'\", \"b'2.18'\", \"b'Mbit/s'\", '2021-09-24 22:13:45']\n",
      "[]\n",
      "[\"b'Ping:'\", \"b'19.792'\", \"b'ms'\", \"b'Download:'\", \"b'4.69'\", \"b'Mbit/s'\", \"b'Upload:'\", \"b'1.91'\", \"b'Mbit/s'\", '2021-09-24 22:14:09']\n",
      "[]\n",
      "['2021-09-24 22:14:37']\n",
      "[]\n",
      "[\"b'Ping:'\", \"b'16.69'\", \"b'ms'\", \"b'Download:'\", \"b'4.30'\", \"b'Mbit/s'\", \"b'Upload:'\", \"b'2.12'\", \"b'Mbit/s'\", '2021-09-24 22:14:47']\n",
      "[]\n",
      "[\"b'Ping:'\", \"b'15.364'\", \"b'ms'\", \"b'Download:'\", \"b'4.39'\", \"b'Mbit/s'\", \"b'Upload:'\", \"b'2.07'\", \"b'Mbit/s'\", '2021-09-24 22:15:12']\n",
      "[]\n"
     ]
    }
   ],
   "source": [
    "# Code cell 17\n",
    "print_from_csv('tmp/rpi_data_test')"
   ]
  },
  {
   "cell_type": "code",
   "execution_count": null,
   "id": "e37c9f1e",
   "metadata": {},
   "outputs": [
    {
     "name": "stdout",
     "output_type": "stream",
     "text": [
      "Test number: 0\n",
      "[b'Ping:', b'10.762', b'ms', b'Download:', b'4.72', b'Mbit/s', b'Upload:', b'2.05', b'Mbit/s', '2021-09-24 22:35:48']\n",
      "Test number: 1\n",
      "[b'Ping:', b'12.786', b'ms', b'Download:', b'4.73', b'Mbit/s', b'Upload:', b'2.12', b'Mbit/s', '2021-09-24 22:36:13']\n",
      "Test number: 2\n",
      "[b'Ping:', b'18.257', b'ms', b'Download:', b'3.07', b'Mbit/s', b'Upload:', b'2.14', b'Mbit/s', '2021-09-24 22:36:37']\n",
      "Test number: 3\n",
      "[b'Ping:', b'15.559', b'ms', b'Download:', b'4.60', b'Mbit/s', b'Upload:', b'2.05', b'Mbit/s', '2021-09-24 22:37:07']\n",
      "Test number: 4\n",
      "[b'Ping:', b'14.966', b'ms', b'Download:', b'4.76', b'Mbit/s', b'Upload:', b'2.26', b'Mbit/s', '2021-09-24 22:37:32']\n",
      "Test number: 5\n",
      "[b'Ping:', b'16.198', b'ms', b'Download:', b'4.77', b'Mbit/s', b'Upload:', b'2.20', b'Mbit/s', '2021-09-24 22:37:56']\n",
      "Test number: 6\n",
      "[b'Ping:', b'17.994', b'ms', b'Download:', b'4.75', b'Mbit/s', b'Upload:', b'2.05', b'Mbit/s', '2021-09-24 22:38:21']\n",
      "Test number: 7\n",
      "[b'Ping:', b'17.315', b'ms', b'Download:', b'4.60', b'Mbit/s', b'Upload:', b'2.10', b'Mbit/s', '2021-09-24 22:38:47']\n",
      "Test number: 8\n",
      "[b'Ping:', b'15.504', b'ms', b'Download:', b'4.60', b'Mbit/s', b'Upload:', b'2.03', b'Mbit/s', '2021-09-24 22:39:12']\n",
      "Test number: 9\n",
      "[b'Ping:', b'12.707', b'ms', b'Download:', b'4.67', b'Mbit/s', b'Upload:', b'1.97', b'Mbit/s', '2021-09-24 22:39:37']\n",
      "Test number: 10\n",
      "[b'Ping:', b'14.093', b'ms', b'Download:', b'4.67', b'Mbit/s', b'Upload:', b'2.15', b'Mbit/s', '2021-09-24 22:40:03']\n",
      "Test number: 11\n",
      "[b'Ping:', b'17.983', b'ms', b'Download:', b'4.76', b'Mbit/s', b'Upload:', b'2.03', b'Mbit/s', '2021-09-24 22:40:28']\n",
      "Test number: 12\n",
      "[b'Ping:', b'16.401', b'ms', b'Download:', b'4.69', b'Mbit/s', b'Upload:', b'2.00', b'Mbit/s', '2021-09-24 22:40:54']\n",
      "Test number: 13\n",
      "[b'Ping:', b'13.339', b'ms', b'Download:', b'4.67', b'Mbit/s', b'Upload:', b'2.13', b'Mbit/s', '2021-09-24 22:41:20']\n",
      "Test number: 14\n",
      "[b'Ping:', b'14.798', b'ms', b'Download:', b'4.64', b'Mbit/s', b'Upload:', b'2.10', b'Mbit/s', '2021-09-24 22:41:44']\n",
      "Test number: 15\n",
      "[b'Ping:', b'11.887', b'ms', b'Download:', b'4.59', b'Mbit/s', b'Upload:', b'2.03', b'Mbit/s', '2021-09-24 22:42:09']\n",
      "Test number: 16\n",
      "[b'Ping:', b'18.943', b'ms', b'Download:', b'4.75', b'Mbit/s', b'Upload:', b'1.97', b'Mbit/s', '2021-09-24 22:42:34']\n",
      "Test number: 17\n",
      "[b'Ping:', b'17.844', b'ms', b'Download:', b'4.72', b'Mbit/s', b'Upload:', b'2.20', b'Mbit/s', '2021-09-24 22:42:59']\n",
      "Test number: 18\n",
      "[b'Ping:', b'15.869', b'ms', b'Download:', b'4.60', b'Mbit/s', b'Upload:', b'2.06', b'Mbit/s', '2021-09-24 22:43:23']\n",
      "Test number: 19\n",
      "[b'Ping:', b'16.037', b'ms', b'Download:', b'4.66', b'Mbit/s', b'Upload:', b'2.12', b'Mbit/s', '2021-09-24 22:43:50']\n",
      "Test number: 20\n",
      "[b'Ping:', b'13.575', b'ms', b'Download:', b'4.81', b'Mbit/s', b'Upload:', b'1.99', b'Mbit/s', '2021-09-24 22:44:15']\n",
      "Test number: 21\n",
      "[b'Ping:', b'16.133', b'ms', b'Download:', b'4.78', b'Mbit/s', b'Upload:', b'2.13', b'Mbit/s', '2021-09-24 22:44:41']\n",
      "Test number: 22\n",
      "[b'Ping:', b'11.151', b'ms', b'Download:', b'4.77', b'Mbit/s', b'Upload:', b'2.08', b'Mbit/s', '2021-09-24 22:45:05']\n",
      "Test number: 23\n",
      "[b'Ping:', b'20.354', b'ms', b'Download:', b'4.66', b'Mbit/s', b'Upload:', b'2.09', b'Mbit/s', '2021-09-24 22:45:30']\n",
      "Test number: 24\n",
      "[b'Ping:', b'15.549', b'ms', b'Download:', b'4.61', b'Mbit/s', b'Upload:', b'2.02', b'Mbit/s', '2021-09-24 22:45:56']\n",
      "Test number: 25\n",
      "[b'Ping:', b'16.489', b'ms', b'Download:', b'4.77', b'Mbit/s', b'Upload:', b'2.26', b'Mbit/s', '2021-09-24 22:46:21']\n",
      "Test number: 26\n",
      "[b'Ping:', b'13.899', b'ms', b'Download:', b'4.66', b'Mbit/s', b'Upload:', b'2.27', b'Mbit/s', '2021-09-24 22:46:45']\n",
      "Test number: 27\n",
      "[b'Ping:', b'22.025', b'ms', b'Download:', b'4.69', b'Mbit/s', b'Upload:', b'2.17', b'Mbit/s', '2021-09-24 22:47:10']\n",
      "Test number: 28\n",
      "[b'Ping:', b'15.354', b'ms', b'Download:', b'4.70', b'Mbit/s', b'Upload:', b'2.02', b'Mbit/s', '2021-09-24 22:47:36']\n",
      "Test number: 29\n",
      "[b'Ping:', b'14.957', b'ms', b'Download:', b'4.69', b'Mbit/s', b'Upload:', b'2.11', b'Mbit/s', '2021-09-24 22:48:01']\n",
      "Test number: 30\n",
      "[b'Ping:', b'16.224', b'ms', b'Download:', b'4.67', b'Mbit/s', b'Upload:', b'2.11', b'Mbit/s', '2021-09-24 22:48:26']\n",
      "Test number: 31\n",
      "[b'Ping:', b'17.136', b'ms', b'Download:', b'4.51', b'Mbit/s', b'Upload:', b'1.96', b'Mbit/s', '2021-09-24 22:48:51']\n",
      "Test number: 32\n",
      "[b'Ping:', b'13.561', b'ms', b'Download:', b'4.80', b'Mbit/s', b'Upload:', b'2.17', b'Mbit/s', '2021-09-24 22:49:17']\n",
      "Test number: 33\n",
      "[b'Ping:', b'13.555', b'ms', b'Download:', b'4.62', b'Mbit/s', b'Upload:', b'1.22', b'Mbit/s', '2021-09-24 22:49:41']\n",
      "Test number: 34\n",
      "[b'Ping:', b'11.218', b'ms', b'Download:', b'4.64', b'Mbit/s', b'Upload:', b'2.06', b'Mbit/s', '2021-09-24 22:50:15']\n",
      "Test number: 35\n",
      "[b'Ping:', b'14.804', b'ms', b'Download:', b'4.68', b'Mbit/s', b'Upload:', b'2.04', b'Mbit/s', '2021-09-24 22:50:40']\n",
      "Test number: 36\n",
      "[b'Ping:', b'13.03', b'ms', b'Download:', b'4.51', b'Mbit/s', b'Upload:', b'2.03', b'Mbit/s', '2021-09-24 22:51:04']\n",
      "Test number: 37\n",
      "[b'Ping:', b'15.822', b'ms', b'Download:', b'4.71', b'Mbit/s', b'Upload:', b'1.99', b'Mbit/s', '2021-09-24 22:51:30']\n",
      "Test number: 38\n",
      "[b'Ping:', b'16.884', b'ms', b'Download:', b'4.65', b'Mbit/s', b'Upload:', b'2.15', b'Mbit/s', '2021-09-24 22:51:56']\n",
      "Test number: 39\n",
      "[b'Ping:', b'12.406', b'ms', b'Download:', b'4.68', b'Mbit/s', b'Upload:', b'2.07', b'Mbit/s', '2021-09-24 22:52:21']\n",
      "Test number: 40\n",
      "[b'Ping:', b'16.023', b'ms', b'Download:', b'4.70', b'Mbit/s', b'Upload:', b'2.11', b'Mbit/s', '2021-09-24 22:52:46']\n",
      "Test number: 41\n",
      "[b'Ping:', b'17.937', b'ms', b'Download:', b'4.45', b'Mbit/s', b'Upload:', b'2.11', b'Mbit/s', '2021-09-24 22:53:11']\n",
      "Test number: 42\n",
      "[b'Ping:', b'13.574', b'ms', b'Download:', b'4.68', b'Mbit/s', b'Upload:', b'2.03', b'Mbit/s', '2021-09-24 22:53:37']\n",
      "Test number: 43\n",
      "[b'Ping:', b'13.336', b'ms', b'Download:', b'4.65', b'Mbit/s', b'Upload:', b'2.08', b'Mbit/s', '2021-09-24 22:54:03']\n",
      "Test number: 44\n",
      "[b'Ping:', b'14.446', b'ms', b'Download:', b'4.78', b'Mbit/s', b'Upload:', b'2.19', b'Mbit/s', '2021-09-24 22:54:28']\n",
      "Test number: 45\n",
      "[b'Ping:', b'9.946', b'ms', b'Download:', b'4.63', b'Mbit/s', b'Upload:', b'2.21', b'Mbit/s', '2021-09-24 22:54:52']\n",
      "Test number: 46\n",
      "[b'Ping:', b'16.307', b'ms', b'Download:', b'4.60', b'Mbit/s', b'Upload:', b'2.18', b'Mbit/s', '2021-09-24 22:55:17']\n",
      "Test number: 47\n",
      "[b'Ping:', b'14.834', b'ms', b'Download:', b'4.67', b'Mbit/s', b'Upload:', b'2.09', b'Mbit/s', '2021-09-24 22:55:43']\n",
      "Test number: 48\n",
      "[b'Ping:', b'19.431', b'ms', b'Download:', b'4.33', b'Mbit/s', b'Upload:', b'1.94', b'Mbit/s', '2021-09-24 22:56:09']\n",
      "Test number: 49\n",
      "[b'Ping:', b'12.291', b'ms', b'Download:', b'4.73', b'Mbit/s', b'Upload:', b'2.21', b'Mbit/s', '2021-09-24 22:56:36']\n",
      "Test number: 50\n",
      "[b'Ping:', b'10.961', b'ms', b'Download:', b'4.66', b'Mbit/s', b'Upload:', b'2.01', b'Mbit/s', '2021-09-24 22:57:00']\n",
      "Test number: 51\n",
      "[b'Ping:', b'11.824', b'ms', b'Download:', b'4.63', b'Mbit/s', b'Upload:', b'2.01', b'Mbit/s', '2021-09-24 22:57:26']\n"
     ]
    }
   ],
   "source": [
    "# Code cell 18\n",
    "# Code to run 100 times\n",
    "for i in range(100):\n",
    "    speedtest_output = speedtest()\n",
    "    print('Test number: {}'.format(i))\n",
    "    print(speedtest_output)\n",
    "    save_to_csv(speedtest_output, 'tmp/rpi_data_test')"
   ]
  },
  {
   "cell_type": "code",
   "execution_count": null,
   "id": "37248b65",
   "metadata": {},
   "outputs": [],
   "source": []
  }
 ],
 "metadata": {
  "kernelspec": {
   "display_name": "Python 3",
   "language": "python",
   "name": "python3"
  },
  "language_info": {
   "codemirror_mode": {
    "name": "ipython",
    "version": 3
   },
   "file_extension": ".py",
   "mimetype": "text/x-python",
   "name": "python",
   "nbconvert_exporter": "python",
   "pygments_lexer": "ipython3",
   "version": "3.9.0"
  }
 },
 "nbformat": 4,
 "nbformat_minor": 5
}
