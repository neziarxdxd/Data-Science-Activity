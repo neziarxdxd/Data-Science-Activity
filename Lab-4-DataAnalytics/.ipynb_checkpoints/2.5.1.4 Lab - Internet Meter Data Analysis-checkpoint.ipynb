{
 "cells": [
  {
   "cell_type": "code",
   "execution_count": 1,
   "metadata": {},
   "outputs": [
    {
     "name": "stdout",
     "output_type": "stream",
     "text": [
      "Requirement already satisfied: speedtest-cli in c:\\users\\my-pc\\appdata\\local\\programs\\python\\python39\\lib\\site-packages (2.1.3)\n"
     ]
    },
    {
     "name": "stderr",
     "output_type": "stream",
     "text": [
      "WARNING: You are using pip version 20.2.3; however, version 21.2.4 is available.\n",
      "You should consider upgrading via the 'c:\\users\\my-pc\\appdata\\local\\programs\\python\\python39\\python.exe -m pip install --upgrade pip' command.\n"
     ]
    }
   ],
   "source": [
    "# Code cell 1\n",
    "!pip install speedtest-cli"
   ]
  },
  {
   "cell_type": "code",
   "execution_count": 2,
   "metadata": {},
   "outputs": [],
   "source": [
    "# Code cell 2\n",
    "\n",
    "import datetime\n",
    "import csv\n",
    "import subprocess"
   ]
  },
  {
   "cell_type": "code",
   "execution_count": 3,
   "metadata": {},
   "outputs": [
    {
     "name": "stdout",
     "output_type": "stream",
     "text": [
      "2021-09-22 16:37:02.348140 <class 'datetime.datetime'>\n"
     ]
    }
   ],
   "source": [
    "# Code cell 3\n",
    "date_time = datetime.datetime.now()\n",
    "print(date_time, type(date_time))"
   ]
  },
  {
   "cell_type": "code",
   "execution_count": 4,
   "metadata": {},
   "outputs": [
    {
     "data": {
      "text/plain": [
       "'Wed, 22 Sep 2021 16:37:02'"
      ]
     },
     "execution_count": 4,
     "metadata": {},
     "output_type": "execute_result"
    }
   ],
   "source": [
    "# Code cell 4\n",
    "date_time.strftime('%a, %d %b %Y %H:%M:%S')"
   ]
  },
  {
   "cell_type": "code",
   "execution_count": 6,
   "metadata": {},
   "outputs": [
    {
     "data": {
      "text/plain": [
       "'2021-09-22 16:37:02'"
      ]
     },
     "execution_count": 6,
     "metadata": {},
     "output_type": "execute_result"
    }
   ],
   "source": [
    "# Code cell 5\n",
    "date_time.strftime(\"%Y-%m-%d %H:%M:%S\")"
   ]
  },
  {
   "cell_type": "code",
   "execution_count": null,
   "metadata": {},
   "outputs": [],
   "source": [
    "# Code cell 6\n",
    "speedtest_cmd = \"speedtest-cli --simple\"\n",
    "process = subprocess.Popen(speedtest_cmd.split(), stdout=subprocess.PIPE)\n",
    "process_output = process.communicate()[0]"
   ]
  },
  {
   "cell_type": "code",
   "execution_count": null,
   "metadata": {
    "collapsed": true
   },
   "outputs": [],
   "source": [
    "# Code cell 7\n",
    "print(process_output, type(process_output))"
   ]
  },
  {
   "cell_type": "code",
   "execution_count": null,
   "metadata": {
    "collapsed": true
   },
   "outputs": [],
   "source": [
    "# Code cell 8\n",
    "date_time = datetime.datetime.now().strftime(\"%Y-%m-%d %H:%M:%S\")\n",
    "process_output = process_output.split()\n",
    "process_output.append(date_time)\n",
    "print(process_output, type(process_output))"
   ]
  },
  {
   "cell_type": "code",
   "execution_count": null,
   "metadata": {
    "collapsed": true
   },
   "outputs": [],
   "source": [
    "# Code cell 9\n",
    "def speedtest():\n",
    "    # We need to store the time at which the speedtest was executed\n",
    "    date_time = datetime.datetime.now().strftime(\"%Y-%m-%d %H:%M:%S\")\n",
    "    speedtest_cmd = \"speedtest-cli --simple\"\n",
    "    process = subprocess.Popen(speedtest_cmd.split(), stdout=subprocess.PIPE)\n",
    "    process_output = process.communicate()[0]\n",
    "    process_output = process_output.split()\n",
    "    process_output.append(date_time)\n",
    "    return process_output"
   ]
  },
  {
   "cell_type": "code",
   "execution_count": null,
   "metadata": {
    "collapsed": true
   },
   "outputs": [],
   "source": [
    "# Code cell 10 \n",
    "# Code to view the results from speedtest() function\n"
   ]
  },
  {
   "cell_type": "code",
   "execution_count": null,
   "metadata": {
    "collapsed": true
   },
   "outputs": [],
   "source": [
    "# Code cell 11\n",
    "with open(\"/tmp/test.txt\",'w') as f:\n",
    "    f.write('test_msg')"
   ]
  },
  {
   "cell_type": "code",
   "execution_count": null,
   "metadata": {
    "collapsed": true
   },
   "outputs": [],
   "source": [
    "# Code cell 12\n",
    "!cat /tmp/test.txt"
   ]
  },
  {
   "cell_type": "code",
   "execution_count": null,
   "metadata": {
    "collapsed": true
   },
   "outputs": [],
   "source": [
    "# Code cell 13\n",
    "with open(\"/tmp/test.txt\",'r') as f:\n",
    "   str = f.read()\n",
    "print(str)"
   ]
  },
  {
   "cell_type": "code",
   "execution_count": null,
   "metadata": {
    "collapsed": true
   },
   "outputs": [],
   "source": [
    "# Code cell 14\n",
    "# function to save data to csv\n",
    "def save_to_csv(data, filename):\n",
    "    try:\n",
    "        # If the file exists, we want to append a new line to it, with the \n",
    "        #results of the current experiment\n",
    "        with open(filename + '.csv', 'a') as f:\n",
    "            wr = csv.writer(f)\n",
    "            wr.writerow(data)\n",
    "    except:\n",
    "        # If it does not exist, create the file first\n",
    "        with open(filename + '.csv', 'w') as f:\n",
    "            # Hint: This is similar to appending new lines to a file.\n",
    "            # Create a csv writer object\n",
    "            # ADD CODE HERE\n",
    "            # Save (write) to file\n",
    "            # ADD CODE HERE"
   ]
  },
  {
   "cell_type": "code",
   "execution_count": null,
   "metadata": {
    "collapsed": true
   },
   "outputs": [],
   "source": [
    "# Code cell 15\n",
    "def print_from_csv(filename): \n",
    "    with open(filename + '.csv', 'r') as f:\n",
    "            re = csv.reader(f)\n",
    "            # 1. Loop over the rows\n",
    "            # 2. print"
   ]
  },
  {
   "cell_type": "code",
   "execution_count": null,
   "metadata": {
    "collapsed": true
   },
   "outputs": [],
   "source": [
    "# Code cell 16\n",
    "for i in range(5):\n",
    "    speedtest_output = speedtest()\n",
    "    print('Test number {}'.format(i))\n",
    "    print(speedtest_output)\n",
    "    save_to_csv(speedtest_output, '/tmp/rpi_data_test')\n",
    "    "
   ]
  },
  {
   "cell_type": "code",
   "execution_count": null,
   "metadata": {
    "collapsed": true
   },
   "outputs": [],
   "source": [
    "# Code cell 17\n",
    "print_from_csv('/tmp/rpi_data_test')\n"
   ]
  },
  {
   "cell_type": "code",
   "execution_count": null,
   "metadata": {
    "collapsed": true
   },
   "outputs": [],
   "source": [
    "# Code cell 18\n",
    "# Code to run 100 times\n",
    "# for i in xrange(100):\n",
    "#     speedtest_output = speedtest()\n",
    "#     print 'Test number: {}'.format(i)\n",
    "#     print speedtest_output\n",
    "#     save_to_csv(speedtest_output, '/tmp/rpi_data')"
   ]
  },
  {
   "cell_type": "code",
   "execution_count": null,
   "metadata": {
    "collapsed": true
   },
   "outputs": [],
   "source": [
    "# Code cell 19\n",
    "import datetime\n",
    "import csv\n",
    "import pandas as pd\n",
    "# NumPy is a library that adds support for large, multi-dimensional arrays and matrices\n",
    "# along with high-level mathematical functions to operate on these arrays\n",
    "import numpy as np"
   ]
  },
  {
   "cell_type": "code",
   "execution_count": null,
   "metadata": {
    "collapsed": true
   },
   "outputs": [],
   "source": [
    "# Code cell 20\n",
    "data_file = './Data/rpi_data_long.csv'"
   ]
  },
  {
   "cell_type": "code",
   "execution_count": null,
   "metadata": {
    "collapsed": true,
    "scrolled": true
   },
   "outputs": [],
   "source": [
    "# Code cell 21\n",
    "!head -n 5 ./Data/rpi_data_long.csv"
   ]
  },
  {
   "cell_type": "code",
   "execution_count": null,
   "metadata": {
    "collapsed": true
   },
   "outputs": [],
   "source": [
    "# Code cell 22\n",
    "column_names = [ 'Type A', 'Measure A', 'Units A',\n",
    "                 'Type B', 'Measure B', 'Units B',\n",
    "                 'Type C', 'Measure C', 'Units C', \n",
    "                 'Datetime']"
   ]
  },
  {
   "cell_type": "code",
   "execution_count": null,
   "metadata": {
    "collapsed": true
   },
   "outputs": [],
   "source": [
    "# Code cell 23\n",
    "with open(data_file, 'r') as f:\n",
    "    df_redundant = pd.read_csv(f, names = column_names)"
   ]
  },
  {
   "cell_type": "code",
   "execution_count": null,
   "metadata": {
    "collapsed": true
   },
   "outputs": [],
   "source": [
    "# Code cell 24\n",
    "# You can specify the number of rows you want to print to screen: \n",
    "# you do so passing the number as an argument to the function\n",
    "# (e.g., head(10))\n",
    "df_redundant.head()"
   ]
  },
  {
   "cell_type": "code",
   "execution_count": null,
   "metadata": {
    "collapsed": true
   },
   "outputs": [],
   "source": [
    "# Code cell 25\n",
    "df_compact = df_redundant.copy()"
   ]
  },
  {
   "cell_type": "code",
   "execution_count": null,
   "metadata": {
    "collapsed": true,
    "scrolled": true
   },
   "outputs": [],
   "source": [
    "# Code cell 26\n",
    "df_compact.rename(columns={'Measure A':'Ping (ms)', \n",
    "                           'Measure B': 'Download (Mbit/s)',\n",
    "                           'Measure C': 'Upload (Mbit/s)'}, inplace=True)\n",
    "df_compact.head(3)"
   ]
  },
  {
   "cell_type": "code",
   "execution_count": null,
   "metadata": {
    "collapsed": true
   },
   "outputs": [],
   "source": [
    "# Code cell 27\n",
    "df_compact.drop(['Type A', 'Type B', 'Type C',\n",
    "         'Units A', 'Units B', 'Units C'], axis=1, inplace=True)\n",
    "df_compact.head()"
   ]
  },
  {
   "cell_type": "code",
   "execution_count": null,
   "metadata": {
    "collapsed": true
   },
   "outputs": [],
   "source": [
    "# Code cell 28\n",
    "df_compact['Date'] = df_compact['Datetime'].apply(lambda dt_str: pd.to_datetime(dt_str).date())"
   ]
  },
  {
   "cell_type": "code",
   "execution_count": null,
   "metadata": {
    "collapsed": true
   },
   "outputs": [],
   "source": [
    "# Code cell 29\n",
    "# Please note, this requires an intermediate step, because of how NaT are treated by the time() function.\n",
    "# Reference: https://github.com/pandas-dev/pandas/issues/11453\n",
    "temp = df_compact['Datetime'].apply(lambda dt_str: pd.to_datetime(dt_str))\n",
    "df_compact['Time'] = temp.dt.time"
   ]
  },
  {
   "cell_type": "code",
   "execution_count": null,
   "metadata": {},
   "outputs": [],
   "source": [
    "# Code cell 30\n"
   ]
  },
  {
   "cell_type": "code",
   "execution_count": null,
   "metadata": {
    "collapsed": true
   },
   "outputs": [],
   "source": [
    "# Code cell 31\n"
   ]
  },
  {
   "cell_type": "code",
   "execution_count": null,
   "metadata": {
    "collapsed": true
   },
   "outputs": [],
   "source": [
    "# Code cell 32\n",
    "print(df_compact['Date'][0], type(df_compact['Date'][0]) )\n",
    "print(df_compact['Time'][0], type(df_compact['Time'][0]) )"
   ]
  },
  {
   "cell_type": "code",
   "execution_count": null,
   "metadata": {
    "collapsed": true
   },
   "outputs": [],
   "source": [
    "# Code cell 33\n",
    "df_compact.to_csv('./Data/rpi_data_compact.csv')"
   ]
  },
  {
   "cell_type": "markdown",
   "metadata": {},
   "source": [
    "<font size='0.5'>&copy; 2017 Cisco and/or its affiliates. All rights reserved. This document is Cisco Public.<font>"
   ]
  }
 ],
 "metadata": {
  "anaconda-cloud": {},
  "kernelspec": {
   "display_name": "Python 3",
   "language": "python",
   "name": "python3"
  },
  "language_info": {
   "codemirror_mode": {
    "name": "ipython",
    "version": 3
   },
   "file_extension": ".py",
   "mimetype": "text/x-python",
   "name": "python",
   "nbconvert_exporter": "python",
   "pygments_lexer": "ipython3",
   "version": "3.9.0"
  }
 },
 "nbformat": 4,
 "nbformat_minor": 1
}
