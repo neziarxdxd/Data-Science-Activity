{
 "cells": [
  {
   "cell_type": "markdown",
   "id": "9651e993",
   "metadata": {},
   "source": [
    "## Case Study\n",
    "```Name: Raizen Sangalang``` \n",
    "\n",
    "\n",
    "Case study about Gender in Software engineering field who have \n",
    "background in any IT or CS related Program\n",
    "\n",
    "## Gender Column\n",
    "In this case 1 represents the Male in Gender\n",
    "In this case 0 represents the Female in Gender\n",
    "\n",
    "## College Column \n",
    "1 represents it attends IT related College program \n",
    "0 it doesn't attend in any IT related College program\n"
   ]
  },
  {
   "cell_type": "code",
   "execution_count": 34,
   "id": "6b79076f",
   "metadata": {},
   "outputs": [],
   "source": [
    "import pandas as pd\n",
    "import numpy as np\n",
    "df=pd.read_csv(\"dataset.csv\")"
   ]
  },
  {
   "cell_type": "code",
   "execution_count": 21,
   "id": "1a66c7a4",
   "metadata": {},
   "outputs": [
    {
     "data": {
      "text/html": [
       "<div>\n",
       "<style scoped>\n",
       "    .dataframe tbody tr th:only-of-type {\n",
       "        vertical-align: middle;\n",
       "    }\n",
       "\n",
       "    .dataframe tbody tr th {\n",
       "        vertical-align: top;\n",
       "    }\n",
       "\n",
       "    .dataframe thead th {\n",
       "        text-align: right;\n",
       "    }\n",
       "</style>\n",
       "<table border=\"1\" class=\"dataframe\">\n",
       "  <thead>\n",
       "    <tr style=\"text-align: right;\">\n",
       "      <th></th>\n",
       "      <th>Gender</th>\n",
       "      <th>Age</th>\n",
       "      <th>Work</th>\n",
       "      <th>College</th>\n",
       "    </tr>\n",
       "  </thead>\n",
       "  <tbody>\n",
       "    <tr>\n",
       "      <th>0</th>\n",
       "      <td>1</td>\n",
       "      <td>18</td>\n",
       "      <td>Quality Engineer</td>\n",
       "      <td>1</td>\n",
       "    </tr>\n",
       "    <tr>\n",
       "      <th>1</th>\n",
       "      <td>0</td>\n",
       "      <td>21</td>\n",
       "      <td>Java Developer</td>\n",
       "      <td>0</td>\n",
       "    </tr>\n",
       "    <tr>\n",
       "      <th>2</th>\n",
       "      <td>0</td>\n",
       "      <td>22</td>\n",
       "      <td>Software developer</td>\n",
       "      <td>0</td>\n",
       "    </tr>\n",
       "    <tr>\n",
       "      <th>3</th>\n",
       "      <td>1</td>\n",
       "      <td>21</td>\n",
       "      <td>Python Developer</td>\n",
       "      <td>0</td>\n",
       "    </tr>\n",
       "    <tr>\n",
       "      <th>4</th>\n",
       "      <td>1</td>\n",
       "      <td>20</td>\n",
       "      <td>Frontend Developer</td>\n",
       "      <td>1</td>\n",
       "    </tr>\n",
       "    <tr>\n",
       "      <th>...</th>\n",
       "      <td>...</td>\n",
       "      <td>...</td>\n",
       "      <td>...</td>\n",
       "      <td>...</td>\n",
       "    </tr>\n",
       "    <tr>\n",
       "      <th>95</th>\n",
       "      <td>0</td>\n",
       "      <td>21</td>\n",
       "      <td>Java Developer</td>\n",
       "      <td>1</td>\n",
       "    </tr>\n",
       "    <tr>\n",
       "      <th>96</th>\n",
       "      <td>1</td>\n",
       "      <td>19</td>\n",
       "      <td>Quality Engineer</td>\n",
       "      <td>0</td>\n",
       "    </tr>\n",
       "    <tr>\n",
       "      <th>97</th>\n",
       "      <td>0</td>\n",
       "      <td>20</td>\n",
       "      <td>Database Manager</td>\n",
       "      <td>1</td>\n",
       "    </tr>\n",
       "    <tr>\n",
       "      <th>98</th>\n",
       "      <td>1</td>\n",
       "      <td>18</td>\n",
       "      <td>Database Manager</td>\n",
       "      <td>1</td>\n",
       "    </tr>\n",
       "    <tr>\n",
       "      <th>99</th>\n",
       "      <td>0</td>\n",
       "      <td>20</td>\n",
       "      <td>Quality Assurance</td>\n",
       "      <td>1</td>\n",
       "    </tr>\n",
       "  </tbody>\n",
       "</table>\n",
       "<p>100 rows × 4 columns</p>\n",
       "</div>"
      ],
      "text/plain": [
       "    Gender  Age                Work  College\n",
       "0        1   18    Quality Engineer        1\n",
       "1        0   21      Java Developer        0\n",
       "2        0   22  Software developer        0\n",
       "3        1   21    Python Developer        0\n",
       "4        1   20  Frontend Developer        1\n",
       "..     ...  ...                 ...      ...\n",
       "95       0   21      Java Developer        1\n",
       "96       1   19    Quality Engineer        0\n",
       "97       0   20    Database Manager        1\n",
       "98       1   18    Database Manager        1\n",
       "99       0   20   Quality Assurance        1\n",
       "\n",
       "[100 rows x 4 columns]"
      ]
     },
     "execution_count": 21,
     "metadata": {},
     "output_type": "execute_result"
    }
   ],
   "source": [
    "df"
   ]
  },
  {
   "cell_type": "code",
   "execution_count": 22,
   "id": "99d5c396",
   "metadata": {},
   "outputs": [
    {
     "data": {
      "text/html": [
       "<div>\n",
       "<style scoped>\n",
       "    .dataframe tbody tr th:only-of-type {\n",
       "        vertical-align: middle;\n",
       "    }\n",
       "\n",
       "    .dataframe tbody tr th {\n",
       "        vertical-align: top;\n",
       "    }\n",
       "\n",
       "    .dataframe thead th {\n",
       "        text-align: right;\n",
       "    }\n",
       "</style>\n",
       "<table border=\"1\" class=\"dataframe\">\n",
       "  <thead>\n",
       "    <tr style=\"text-align: right;\">\n",
       "      <th>Gender</th>\n",
       "      <th>Female</th>\n",
       "      <th>Male</th>\n",
       "    </tr>\n",
       "    <tr>\n",
       "      <th>College</th>\n",
       "      <th></th>\n",
       "      <th></th>\n",
       "    </tr>\n",
       "  </thead>\n",
       "  <tbody>\n",
       "    <tr>\n",
       "      <th>0</th>\n",
       "      <td>27</td>\n",
       "      <td>20</td>\n",
       "    </tr>\n",
       "    <tr>\n",
       "      <th>1</th>\n",
       "      <td>22</td>\n",
       "      <td>31</td>\n",
       "    </tr>\n",
       "  </tbody>\n",
       "</table>\n",
       "</div>"
      ],
      "text/plain": [
       "Gender   Female  Male\n",
       "College              \n",
       "0            27    20\n",
       "1            22    31"
      ]
     },
     "execution_count": 22,
     "metadata": {},
     "output_type": "execute_result"
    }
   ],
   "source": [
    "df[\"Gender\"]=df.Gender.replace({\n",
    "                    1:\"Male\", 0:\"Female\"\n",
    "                    })\n",
    "dx = df[[\"College\", \"Gender\"]].dropna()\n",
    "pd.crosstab(dx.College,dx.Gender)"
   ]
  },
  {
   "cell_type": "code",
   "execution_count": 26,
   "id": "5d822905",
   "metadata": {},
   "outputs": [],
   "source": [
    "collegeFemale = 22\n",
    "collegeMale = 31\n",
    "nonCollegeFemale= 27\n",
    "nonCollegeMale = 20\n",
    "female = collegeFemale + nonCollegeFemale\n",
    "male = collegeMale + nonCollegeMale"
   ]
  },
  {
   "cell_type": "code",
   "execution_count": 27,
   "id": "c035cb5e",
   "metadata": {},
   "outputs": [],
   "source": [
    "from statsmodels import api as sm"
   ]
  },
  {
   "cell_type": "code",
   "execution_count": 28,
   "id": "cb68464b",
   "metadata": {},
   "outputs": [],
   "source": [
    "p_female = collegeFemale/(female)"
   ]
  },
  {
   "cell_type": "code",
   "execution_count": 30,
   "id": "ae195059",
   "metadata": {},
   "outputs": [
    {
     "data": {
      "text/plain": [
       "(0.3097129211477546, 0.5882462625257148)"
      ]
     },
     "execution_count": 30,
     "metadata": {},
     "output_type": "execute_result"
    }
   ],
   "source": [
    "sm.stats.proportion_confint(female * p_female, female)"
   ]
  },
  {
   "cell_type": "markdown",
   "id": "a07bf0c5",
   "metadata": {},
   "source": [
    "## interpretation\n",
    "With **95%** confidence, the classification accuracy/error is likely between **0.30971** and **0.5882**, based on **100** samples"
   ]
  },
  {
   "cell_type": "code",
   "execution_count": 31,
   "id": "8c47f66f",
   "metadata": {},
   "outputs": [],
   "source": [
    "p_male = collegeMale/(male)"
   ]
  },
  {
   "cell_type": "code",
   "execution_count": 32,
   "id": "44544967",
   "metadata": {},
   "outputs": [
    {
     "data": {
      "text/plain": [
       "(0.4738481130108845, 0.7418381614989193)"
      ]
     },
     "execution_count": 32,
     "metadata": {},
     "output_type": "execute_result"
    }
   ],
   "source": [
    "sm.stats.proportion_confint(male * p_male, male)"
   ]
  },
  {
   "cell_type": "markdown",
   "id": "79c38681",
   "metadata": {},
   "source": [
    "## interpretation \n",
    "\n",
    "With **95%** confidence, the classification accuracy/error is likely between  **0.4738 and 0.7418** , based on 100 samples\n"
   ]
  },
  {
   "cell_type": "code",
   "execution_count": null,
   "id": "3556e63f",
   "metadata": {},
   "outputs": [],
   "source": []
  }
 ],
 "metadata": {
  "kernelspec": {
   "display_name": "Python 3",
   "language": "python",
   "name": "python3"
  },
  "language_info": {
   "codemirror_mode": {
    "name": "ipython",
    "version": 3
   },
   "file_extension": ".py",
   "mimetype": "text/x-python",
   "name": "python",
   "nbconvert_exporter": "python",
   "pygments_lexer": "ipython3",
   "version": "3.9.0"
  }
 },
 "nbformat": 4,
 "nbformat_minor": 5
}
